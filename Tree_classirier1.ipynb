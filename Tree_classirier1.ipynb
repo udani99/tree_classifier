{
 "cells": [
  {
   "cell_type": "code",
   "execution_count": 25,
   "id": "36b7b6b6-99cd-4d63-884a-83059d30c311",
   "metadata": {},
   "outputs": [],
   "source": [
    "import numpy as np\n",
    "import pandas as pd\n",
    "import os\n",
    "import tensorflow as tf\n",
    "from tensorflow.keras.models import Sequential, load_model\n",
    "from tensorflow.keras.layers import Dense, Dropout\n",
    "from sklearn.model_selection import train_test_split\n",
    "from sklearn.preprocessing import LabelEncoder, StandardScaler\n",
    "import matplotlib.pyplot as plt\n",
    "import keras_tuner as kt\n",
    "import joblib"
   ]
  },
  {
   "cell_type": "code",
   "execution_count": 26,
   "id": "ad5fc610-c773-436f-be0d-967d2387e521",
   "metadata": {},
   "outputs": [
    {
     "name": "stdout",
     "output_type": "stream",
     "text": [
      "      Species\\t  \\tLength  Width   Ratio  Tip length  Base angle  no of veins  \\\n",
      "0         Betel      16.2   11.0    1.47         1.4         348            8   \n",
      "1         Betel      12.6    9.1    1.38         1.1         312            8   \n",
      "2         Betel      13.8    8.1    1.70         1.1         332            8   \n",
      "3         Betel      12.1    8.5    1.42         1.1         322            8   \n",
      "4         Betel      13.8   10.2    1.35         1.6         221            8   \n",
      "..          ...       ...    ...     ...         ...         ...          ...   \n",
      "70  Long pepper      13.3    9.8    1.36         0.6         228            6   \n",
      "71  Long pepper      12.8    9.7    1.32         0.6         185            6   \n",
      "72  Long pepper      10.9    9.0  121.00         0.8         230            6   \n",
      "73  Long pepper      12.4   10.5    1.18         0.9         205            6   \n",
      "74  Long pepper      14.0    9.7    1.44         0.8         206            6   \n",
      "\n",
      "    petiole length  \n",
      "0              2.5  \n",
      "1              2.4  \n",
      "2              2.7  \n",
      "3              2.8  \n",
      "4              6.1  \n",
      "..             ...  \n",
      "70             3.2  \n",
      "71             1.9  \n",
      "72             3.5  \n",
      "73             3.8  \n",
      "74             2.6  \n",
      "\n",
      "[75 rows x 8 columns]\n"
     ]
    }
   ],
   "source": [
    "# Load the dataset\n",
    "df = pd.read_csv(\"C:/Users/User/Desktop/Tree_classification/tree_classifier.csv\")\n",
    "print(df)"
   ]
  },
  {
   "cell_type": "code",
   "execution_count": 27,
   "id": "56c5c0b4-ffec-48a5-a288-c371d8818b3b",
   "metadata": {},
   "outputs": [],
   "source": [
    "# Preprocess the data\n",
    "# Convert species names to integers\n",
    "\n",
    "# Strip leading and trailing spaces from column names\n",
    "df.columns = df.columns.str.strip()\n",
    "\n",
    "le = LabelEncoder()\n",
    "df['Species'] = le.fit_transform(df['Species'])"
   ]
  },
  {
   "cell_type": "code",
   "execution_count": 28,
   "id": "51b74eab-3eb3-4e7c-8a55-0068a005aa3a",
   "metadata": {},
   "outputs": [],
   "source": [
    "# Split the dataset into training and test sets\n",
    "X = df.drop(columns=['Species']).values\n",
    "y = df['Species'].values\n",
    "X_train, X_test, y_train, y_test = train_test_split(X, y, test_size=0.2, random_state=42)\n"
   ]
  },
  {
   "cell_type": "code",
   "execution_count": 29,
   "id": "d327ae1c-8583-4a13-891d-e47362df10a3",
   "metadata": {},
   "outputs": [],
   "source": [
    "# Standardize the data\n",
    "scaler = StandardScaler()\n",
    "X_train = scaler.fit_transform(X_train)\n",
    "X_test = scaler.transform(X_test)"
   ]
  },
  {
   "cell_type": "code",
   "execution_count": 30,
   "id": "27fc5768-ad3d-4800-8d9a-ea46f120b7ff",
   "metadata": {},
   "outputs": [
    {
     "data": {
      "text/plain": [
       "['scaler.joblib']"
      ]
     },
     "execution_count": 30,
     "metadata": {},
     "output_type": "execute_result"
    }
   ],
   "source": [
    "# Save the scaler\n",
    "joblib.dump(scaler, 'scaler.joblib')"
   ]
  },
  {
   "cell_type": "code",
   "execution_count": 31,
   "id": "e1bc5f4a-7fbb-4258-9a5a-a96264b8ab8d",
   "metadata": {},
   "outputs": [
    {
     "name": "stdout",
     "output_type": "stream",
     "text": [
      "Reloading Tuner from my_dir\\tree_classification\\tuner0.json\n"
     ]
    }
   ],
   "source": [
    "# Build the model with Keras Tuner\n",
    "def build_model(hp):\n",
    "    model = Sequential()\n",
    "    model.add(Dense(units=hp.Int('units_1', min_value=32, max_value=256, step=32),\n",
    "                    activation='relu', input_shape=(X_train.shape[1],)))\n",
    "    model.add(Dropout(rate=hp.Float('dropout_1', min_value=0.2, max_value=0.5, step=0.1)))\n",
    "    model.add(Dense(units=hp.Int('units_2', min_value=32, max_value=256, step=32),\n",
    "                    activation='relu'))\n",
    "    model.add(Dropout(rate=hp.Float('dropout_2', min_value=0.2, max_value=0.5, step=0.1)))\n",
    "    model.add(Dense(3, activation='softmax'))\n",
    "    \n",
    "    model.compile(optimizer='adam',\n",
    "                  loss='sparse_categorical_crossentropy',\n",
    "                  metrics=['accuracy'])\n",
    "    return model\n",
    "\n",
    "tuner = kt.RandomSearch(\n",
    "    build_model,\n",
    "    objective='val_accuracy',\n",
    "    max_trials=5,\n",
    "    executions_per_trial=3,\n",
    "    directory='my_dir',\n",
    "    project_name='tree_classification')"
   ]
  },
  {
   "cell_type": "code",
   "execution_count": 32,
   "id": "d2db955c-ca8c-4565-8969-ba74d4ec9e7d",
   "metadata": {},
   "outputs": [],
   "source": [
    "# Search for the best hyperparameters\n",
    "tuner.search(X_train, y_train, epochs=50, validation_split=0.2, callbacks=[tf.keras.callbacks.EarlyStopping(patience=3)])"
   ]
  },
  {
   "cell_type": "code",
   "execution_count": 33,
   "id": "8cd954b0-3ff9-4402-b7b7-c8b7313314a1",
   "metadata": {},
   "outputs": [],
   "source": [
    "# Get the best model\n",
    "best_model = tuner.get_best_models(num_models=1)[0]\n"
   ]
  },
  {
   "cell_type": "code",
   "execution_count": 34,
   "id": "9d1662a5-8161-43cd-b1f5-8f4fe8479660",
   "metadata": {},
   "outputs": [
    {
     "name": "stdout",
     "output_type": "stream",
     "text": [
      "Epoch 1/50\n",
      "2/2 [==============================] - 1s 242ms/step - loss: 0.7288 - accuracy: 0.8125 - val_loss: 0.5800 - val_accuracy: 1.0000\n",
      "Epoch 2/50\n",
      "2/2 [==============================] - 0s 41ms/step - loss: 0.6408 - accuracy: 0.9167 - val_loss: 0.5073 - val_accuracy: 1.0000\n",
      "Epoch 3/50\n",
      "2/2 [==============================] - 0s 48ms/step - loss: 0.6093 - accuracy: 0.8958 - val_loss: 0.4426 - val_accuracy: 1.0000\n",
      "Epoch 4/50\n",
      "2/2 [==============================] - 0s 49ms/step - loss: 0.5128 - accuracy: 0.9375 - val_loss: 0.3854 - val_accuracy: 1.0000\n",
      "Epoch 5/50\n",
      "2/2 [==============================] - 0s 35ms/step - loss: 0.4918 - accuracy: 0.9375 - val_loss: 0.3351 - val_accuracy: 1.0000\n",
      "Epoch 6/50\n",
      "2/2 [==============================] - 0s 33ms/step - loss: 0.4535 - accuracy: 0.9375 - val_loss: 0.2917 - val_accuracy: 1.0000\n",
      "Epoch 7/50\n",
      "2/2 [==============================] - 0s 50ms/step - loss: 0.4275 - accuracy: 0.9375 - val_loss: 0.2526 - val_accuracy: 1.0000\n",
      "Epoch 8/50\n",
      "2/2 [==============================] - 0s 41ms/step - loss: 0.3667 - accuracy: 0.8958 - val_loss: 0.2185 - val_accuracy: 1.0000\n",
      "Epoch 9/50\n",
      "2/2 [==============================] - 0s 33ms/step - loss: 0.3113 - accuracy: 0.9792 - val_loss: 0.1888 - val_accuracy: 1.0000\n",
      "Epoch 10/50\n",
      "2/2 [==============================] - 0s 58ms/step - loss: 0.3218 - accuracy: 0.9375 - val_loss: 0.1630 - val_accuracy: 1.0000\n",
      "Epoch 11/50\n",
      "2/2 [==============================] - 0s 37ms/step - loss: 0.2832 - accuracy: 0.9167 - val_loss: 0.1405 - val_accuracy: 1.0000\n",
      "Epoch 12/50\n",
      "2/2 [==============================] - 0s 36ms/step - loss: 0.2687 - accuracy: 0.9375 - val_loss: 0.1209 - val_accuracy: 1.0000\n",
      "Epoch 13/50\n",
      "2/2 [==============================] - 0s 35ms/step - loss: 0.2348 - accuracy: 0.9375 - val_loss: 0.1042 - val_accuracy: 1.0000\n",
      "Epoch 14/50\n",
      "2/2 [==============================] - 0s 36ms/step - loss: 0.2495 - accuracy: 0.9167 - val_loss: 0.0900 - val_accuracy: 1.0000\n",
      "Epoch 15/50\n",
      "2/2 [==============================] - 0s 36ms/step - loss: 0.2607 - accuracy: 0.9167 - val_loss: 0.0785 - val_accuracy: 1.0000\n",
      "Epoch 16/50\n",
      "2/2 [==============================] - 0s 38ms/step - loss: 0.2013 - accuracy: 0.9583 - val_loss: 0.0693 - val_accuracy: 1.0000\n",
      "Epoch 17/50\n",
      "2/2 [==============================] - 0s 35ms/step - loss: 0.1966 - accuracy: 0.9375 - val_loss: 0.0606 - val_accuracy: 1.0000\n",
      "Epoch 18/50\n",
      "2/2 [==============================] - 0s 36ms/step - loss: 0.1822 - accuracy: 0.9375 - val_loss: 0.0532 - val_accuracy: 1.0000\n",
      "Epoch 19/50\n",
      "2/2 [==============================] - 0s 36ms/step - loss: 0.1799 - accuracy: 0.9167 - val_loss: 0.0475 - val_accuracy: 1.0000\n",
      "Epoch 20/50\n",
      "2/2 [==============================] - 0s 35ms/step - loss: 0.2056 - accuracy: 0.9375 - val_loss: 0.0423 - val_accuracy: 1.0000\n",
      "Epoch 21/50\n",
      "2/2 [==============================] - 0s 37ms/step - loss: 0.1582 - accuracy: 0.9583 - val_loss: 0.0379 - val_accuracy: 1.0000\n",
      "Epoch 22/50\n",
      "2/2 [==============================] - 0s 40ms/step - loss: 0.1421 - accuracy: 0.9792 - val_loss: 0.0345 - val_accuracy: 1.0000\n",
      "Epoch 23/50\n",
      "2/2 [==============================] - 0s 40ms/step - loss: 0.1399 - accuracy: 0.9583 - val_loss: 0.0319 - val_accuracy: 1.0000\n",
      "Epoch 24/50\n",
      "2/2 [==============================] - 0s 43ms/step - loss: 0.1712 - accuracy: 0.9375 - val_loss: 0.0293 - val_accuracy: 1.0000\n",
      "Epoch 25/50\n",
      "2/2 [==============================] - 0s 33ms/step - loss: 0.1228 - accuracy: 0.9583 - val_loss: 0.0266 - val_accuracy: 1.0000\n",
      "Epoch 26/50\n",
      "2/2 [==============================] - 0s 49ms/step - loss: 0.1443 - accuracy: 0.9375 - val_loss: 0.0246 - val_accuracy: 1.0000\n",
      "Epoch 27/50\n",
      "2/2 [==============================] - 0s 128ms/step - loss: 0.1177 - accuracy: 0.9583 - val_loss: 0.0228 - val_accuracy: 1.0000\n",
      "Epoch 28/50\n",
      "2/2 [==============================] - 0s 40ms/step - loss: 0.1306 - accuracy: 0.9583 - val_loss: 0.0214 - val_accuracy: 1.0000\n",
      "Epoch 29/50\n",
      "2/2 [==============================] - 0s 44ms/step - loss: 0.1121 - accuracy: 0.9583 - val_loss: 0.0204 - val_accuracy: 1.0000\n",
      "Epoch 30/50\n",
      "2/2 [==============================] - 0s 35ms/step - loss: 0.1046 - accuracy: 0.9583 - val_loss: 0.0194 - val_accuracy: 1.0000\n",
      "Epoch 31/50\n",
      "2/2 [==============================] - 0s 40ms/step - loss: 0.1246 - accuracy: 0.9375 - val_loss: 0.0191 - val_accuracy: 1.0000\n",
      "Epoch 32/50\n",
      "2/2 [==============================] - 0s 35ms/step - loss: 0.1054 - accuracy: 0.9375 - val_loss: 0.0190 - val_accuracy: 1.0000\n",
      "Epoch 33/50\n",
      "2/2 [==============================] - 0s 28ms/step - loss: 0.1094 - accuracy: 0.9792 - val_loss: 0.0188 - val_accuracy: 1.0000\n",
      "Epoch 34/50\n",
      "2/2 [==============================] - 0s 35ms/step - loss: 0.1156 - accuracy: 0.9583 - val_loss: 0.0177 - val_accuracy: 1.0000\n",
      "Epoch 35/50\n",
      "2/2 [==============================] - 0s 39ms/step - loss: 0.1145 - accuracy: 0.9375 - val_loss: 0.0170 - val_accuracy: 1.0000\n",
      "Epoch 36/50\n",
      "2/2 [==============================] - 0s 47ms/step - loss: 0.1005 - accuracy: 0.9583 - val_loss: 0.0159 - val_accuracy: 1.0000\n",
      "Epoch 37/50\n",
      "2/2 [==============================] - 0s 34ms/step - loss: 0.0955 - accuracy: 0.9375 - val_loss: 0.0150 - val_accuracy: 1.0000\n",
      "Epoch 38/50\n",
      "2/2 [==============================] - 0s 35ms/step - loss: 0.0732 - accuracy: 0.9792 - val_loss: 0.0142 - val_accuracy: 1.0000\n",
      "Epoch 39/50\n",
      "2/2 [==============================] - 0s 38ms/step - loss: 0.0776 - accuracy: 1.0000 - val_loss: 0.0134 - val_accuracy: 1.0000\n",
      "Epoch 40/50\n",
      "2/2 [==============================] - 0s 35ms/step - loss: 0.0964 - accuracy: 0.9583 - val_loss: 0.0128 - val_accuracy: 1.0000\n",
      "Epoch 41/50\n",
      "2/2 [==============================] - 0s 35ms/step - loss: 0.0902 - accuracy: 0.9583 - val_loss: 0.0121 - val_accuracy: 1.0000\n",
      "Epoch 42/50\n",
      "2/2 [==============================] - 0s 38ms/step - loss: 0.0783 - accuracy: 1.0000 - val_loss: 0.0113 - val_accuracy: 1.0000\n",
      "Epoch 43/50\n",
      "2/2 [==============================] - 0s 38ms/step - loss: 0.0706 - accuracy: 0.9792 - val_loss: 0.0106 - val_accuracy: 1.0000\n",
      "Epoch 44/50\n",
      "2/2 [==============================] - 0s 36ms/step - loss: 0.0855 - accuracy: 1.0000 - val_loss: 0.0101 - val_accuracy: 1.0000\n",
      "Epoch 45/50\n",
      "2/2 [==============================] - 0s 37ms/step - loss: 0.0800 - accuracy: 1.0000 - val_loss: 0.0096 - val_accuracy: 1.0000\n",
      "Epoch 46/50\n",
      "2/2 [==============================] - 0s 44ms/step - loss: 0.0740 - accuracy: 0.9792 - val_loss: 0.0091 - val_accuracy: 1.0000\n",
      "Epoch 47/50\n",
      "2/2 [==============================] - 0s 50ms/step - loss: 0.0909 - accuracy: 0.9583 - val_loss: 0.0086 - val_accuracy: 1.0000\n",
      "Epoch 48/50\n",
      "2/2 [==============================] - 0s 42ms/step - loss: 0.0806 - accuracy: 0.9583 - val_loss: 0.0083 - val_accuracy: 1.0000\n",
      "Epoch 49/50\n",
      "2/2 [==============================] - 0s 50ms/step - loss: 0.0568 - accuracy: 1.0000 - val_loss: 0.0080 - val_accuracy: 1.0000\n",
      "Epoch 50/50\n",
      "2/2 [==============================] - 0s 50ms/step - loss: 0.0707 - accuracy: 0.9792 - val_loss: 0.0078 - val_accuracy: 1.0000\n"
     ]
    }
   ],
   "source": [
    "# Train the best model with EarlyStopping\n",
    "early_stopping = tf.keras.callbacks.EarlyStopping(monitor='val_loss', patience=3, restore_best_weights=True)\n",
    "history = best_model.fit(X_train, y_train, epochs=50, validation_split=0.2, verbose=1, callbacks=[early_stopping])"
   ]
  },
  {
   "cell_type": "code",
   "execution_count": 35,
   "id": "089ee048-71f1-40a3-bf91-1c924d49f1b8",
   "metadata": {},
   "outputs": [
    {
     "name": "stdout",
     "output_type": "stream",
     "text": [
      "1/1 [==============================] - 0s 42ms/step - loss: 0.1953 - accuracy: 0.9333\n",
      "\n",
      "Test accuracy: 0.9333333373069763, Test loss: 0.19528916478157043\n"
     ]
    }
   ],
   "source": [
    "# Evaluate the model on the test set\n",
    "test_loss, test_acc = best_model.evaluate(X_test, y_test)\n",
    "print(f'\\nTest accuracy: {test_acc}, Test loss: {test_loss}')"
   ]
  },
  {
   "cell_type": "code",
   "execution_count": 36,
   "id": "2f54fec2-9668-4098-bc28-869aded04732",
   "metadata": {},
   "outputs": [
    {
     "data": {
      "image/png": "[encoded data removed]",
      "text/plain": [
       "<Figure size 640x480 with 1 Axes>"
      ]
     },
     "metadata": {},
     "output_type": "display_data"
    }
   ],
   "source": [
    "# Plotting the training history\n",
    "plt.plot(history.history['accuracy'], label='accuracy')\n",
    "plt.plot(history.history['val_accuracy'], label='val_accuracy')\n",
    "plt.xlabel('Epoch')\n",
    "plt.ylabel('Accuracy')\n",
    "plt.ylim([0, 1])\n",
    "plt.legend(loc='lower right')\n",
    "plt.show()"
   ]
  },
  {
   "cell_type": "code",
   "execution_count": 37,
   "id": "f86466e9-3e38-41a8-9173-a91de96bc269",
   "metadata": {},
   "outputs": [
    {
     "data": {
      "image/png": "[encoded data removed]",
      "text/plain": [
       "<Figure size 640x480 with 1 Axes>"
      ]
     },
     "metadata": {},
     "output_type": "display_data"
    }
   ],
   "source": [
    "# Plot loss\n",
    "plt.plot(history.history['loss'], label='Train Loss')\n",
    "plt.plot(history.history['val_loss'], label='Validation Loss')\n",
    "plt.xlabel('Epoch')\n",
    "plt.ylabel('Loss')\n",
    "plt.ylim([0, max(history.history['loss'])])\n",
    "plt.title('Loss over Epochs')\n",
    "plt.legend(loc='upper right')\n",
    "plt.tight_layout()\n",
    "plt.show()"
   ]
  },
  {
   "cell_type": "code",
   "execution_count": 38,
   "id": "00bf0fa1-3fed-4406-b3af-79d7a92b7491",
   "metadata": {},
   "outputs": [],
   "source": [
    "# Save the best model\n",
    "best_model.save(\"C:/Users/User/Desktop/Tree_classification/best_model.h5\")\n"
   ]
  },
  {
   "cell_type": "code",
   "execution_count": 39,
   "id": "456ac04e-ee11-4cbf-9b24-a69f956de1b5",
   "metadata": {},
   "outputs": [
    {
     "name": "stdout",
     "output_type": "stream",
     "text": [
      "WARNING:tensorflow:Error in loading the saved optimizer state. As a result, your model is starting with a freshly initialized optimizer.\n"
     ]
    }
   ],
   "source": [
    "# Load the best model\n",
    "model = load_model(\"C:/Users/User/Desktop/Tree_classification/best_model.h5\")"
   ]
  },
  {
   "cell_type": "code",
   "execution_count": 40,
   "id": "6d4bcccd-47f7-42c2-b111-cf691c2a0436",
   "metadata": {},
   "outputs": [],
   "source": [
    "# Load the scaler\n",
    "scaler = joblib.load('scaler.joblib')"
   ]
  },
  {
   "cell_type": "code",
   "execution_count": 41,
   "id": "33ceca6a-0f58-4007-ad26-139d62fe6149",
   "metadata": {},
   "outputs": [],
   "source": [
    "# Load the dataset to get feature names\n",
    "df = pd.read_csv(\"C:/Users/User/Desktop/Tree_classification/tree_classifier.csv\")\n",
    "df.columns = df.columns.str.strip()"
   ]
  },
  {
   "cell_type": "code",
   "execution_count": 42,
   "id": "9e96c871-82a1-4ebc-9057-9614744f6218",
   "metadata": {},
   "outputs": [],
   "source": [
    "# Get user input\n",
    "def get_user_input():\n",
    "    input_features = []\n",
    "    feature_names = df.columns.drop('Species')  # Exclude the 'Species' column\n",
    "    for feature in feature_names:\n",
    "        value = float(input(f\"Enter value for {feature}: \"))\n",
    "        input_features.append(value)\n",
    "    return np.array(input_features).reshape(1, -1)"
   ]
  },
  {
   "cell_type": "code",
   "execution_count": 43,
   "id": "b94f6d8f-50af-4667-8366-9b4b595f5712",
   "metadata": {},
   "outputs": [
    {
     "name": "stdin",
     "output_type": "stream",
     "text": [
      "Enter value for Length:  11\n",
      "Enter value for Width:  8.2\n",
      "Enter value for Ratio:  1.2\n",
      "Enter value for Tip length:  1.1\n",
      "Enter value for Base angle:  322\n",
      "Enter value for no of veins:  8\n",
      "Enter value for petiole length:  2.6\n"
     ]
    }
   ],
   "source": [
    "# Get user input\n",
    "user_input = get_user_input()"
   ]
  },
  {
   "cell_type": "code",
   "execution_count": 44,
   "id": "79b303f4-c24f-45c0-9593-087f395631bc",
   "metadata": {},
   "outputs": [],
   "source": [
    "# Scale the user input\n",
    "user_input_scaled = scaler.transform(user_input)\n"
   ]
  },
  {
   "cell_type": "code",
   "execution_count": 45,
   "id": "1194ceb1-3393-4d82-a936-8f34a7e7a1cb",
   "metadata": {},
   "outputs": [
    {
     "name": "stdout",
     "output_type": "stream",
     "text": [
      "1/1 [==============================] - 0s 59ms/step\n"
     ]
    }
   ],
   "source": [
    "# Predict the class\n",
    "predicted_class = model.predict(user_input_scaled)\n",
    "predicted_class_index = np.argmax(predicted_class)\n"
   ]
  },
  {
   "cell_type": "code",
   "execution_count": 46,
   "id": "9c3ab550-3c5b-4bc9-bfa3-48a9c986604f",
   "metadata": {},
   "outputs": [],
   "source": [
    "# Map class index to species name\n",
    "species_names = {index: label for index, label in enumerate(le.classes_)}\n"
   ]
  },
  {
   "cell_type": "code",
   "execution_count": 47,
   "id": "713367e3-c878-4b14-a079-00785ce34fcf",
   "metadata": {},
   "outputs": [
    {
     "name": "stdout",
     "output_type": "stream",
     "text": [
      "Predicted class: Betel\n"
     ]
    }
   ],
   "source": [
    "# Print the predicted species name\n",
    "print(f\"Predicted class: {species_names.get(predicted_class_index, 'Unknown')}\")"
   ]
  },
  {
   "cell_type": "code",
   "execution_count": null,
   "id": "16fcc326-4104-47e3-b12e-0f57ec7519b4",
   "metadata": {},
   "outputs": [],
   "source": []
  }
 ],
 "metadata": {
  "kernelspec": {
   "display_name": "Python 3 (ipykernel)",
   "language": "python",
   "name": "python3"
  },
  "language_info": {
   "codemirror_mode": {
    "name": "ipython",
    "version": 3
   },
   "file_extension": ".py",
   "mimetype": "text/x-python",
   "name": "python",
   "nbconvert_exporter": "python",
   "pygments_lexer": "ipython3",
   "version": "3.9.18"
  }
 },
 "nbformat": 4,
 "nbformat_minor": 5
}
